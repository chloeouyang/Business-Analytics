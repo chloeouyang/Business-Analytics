{
 "cells": [
  {
   "cell_type": "code",
   "execution_count": 2,
   "id": "82f60e79-a8f7-4843-bbb8-b488917872de",
   "metadata": {
    "tags": []
   },
   "outputs": [],
   "source": [
    "import pandas as pd\n",
    "\n",
    "# Load the provided pickle file\n",
    "df = pd.read_pickle('shared/Project-3_NYC_311_Calls.pkl')\n",
    "df = df.set_index(pd.DatetimeIndex(df['Created Date']))\n",
    "del df['Created Date']\n"
   ]
  },
  {
   "cell_type": "code",
   "execution_count": 3,
   "id": "c700ded5-885f-43ea-98b1-4a5ddf34d7d5",
   "metadata": {
    "tags": []
   },
   "outputs": [
    {
     "name": "stdout",
     "output_type": "stream",
     "text": [
      "                     Unique Key Agency  \\\n",
      "Created Date                             \n",
      "2011-04-06 00:00:00    20184537    HPD   \n",
      "2011-04-06 00:00:00    20184538    HPD   \n",
      "2011-04-06 00:00:00    20184539    HPD   \n",
      "2022-07-08 11:14:43    54732265   DSNY   \n",
      "2011-04-06 00:00:00    20184540    HPD   \n",
      "\n",
      "                                                           Agency Name  \\\n",
      "Created Date                                                             \n",
      "2011-04-06 00:00:00  Department of Housing Preservation and Develop...   \n",
      "2011-04-06 00:00:00  Department of Housing Preservation and Develop...   \n",
      "2011-04-06 00:00:00  Department of Housing Preservation and Develop...   \n",
      "2022-07-08 11:14:43                           Department of Sanitation   \n",
      "2011-04-06 00:00:00  Department of Housing Preservation and Develop...   \n",
      "\n",
      "                           Complaint Type Descriptor         Location Type  \\\n",
      "Created Date                                                                 \n",
      "2011-04-06 00:00:00               HEATING       HEAT  RESIDENTIAL BUILDING   \n",
      "2011-04-06 00:00:00  GENERAL CONSTRUCTION    WINDOWS  RESIDENTIAL BUILDING   \n",
      "2011-04-06 00:00:00       PAINT - PLASTER      WALLS  RESIDENTIAL BUILDING   \n",
      "2022-07-08 11:14:43       Dirty Condition      Trash              Sidewalk   \n",
      "2011-04-06 00:00:00              NONCONST     VERMIN  RESIDENTIAL BUILDING   \n",
      "\n",
      "                    Incident Zip      City  \\\n",
      "Created Date                                 \n",
      "2011-04-06 00:00:00      10002.0  NEW YORK   \n",
      "2011-04-06 00:00:00      11236.0  BROOKLYN   \n",
      "2011-04-06 00:00:00      10460.0     BRONX   \n",
      "2022-07-08 11:14:43      10467.0     BRONX   \n",
      "2011-04-06 00:00:00      10460.0     BRONX   \n",
      "\n",
      "                                                Resolution Description  \\\n",
      "Created Date                                                             \n",
      "2011-04-06 00:00:00  More than one complaint was received for this ...   \n",
      "2011-04-06 00:00:00  The Department of Housing Preservation and Dev...   \n",
      "2011-04-06 00:00:00  The Department of Housing Preservation and Dev...   \n",
      "2022-07-08 11:14:43  The Department of Sanitation investigated this...   \n",
      "2011-04-06 00:00:00  The Department of Housing Preservation and Dev...   \n",
      "\n",
      "                       Borough Open Data Channel Type  \n",
      "Created Date                                           \n",
      "2011-04-06 00:00:00  MANHATTAN                UNKNOWN  \n",
      "2011-04-06 00:00:00   BROOKLYN                UNKNOWN  \n",
      "2011-04-06 00:00:00      BRONX                UNKNOWN  \n",
      "2022-07-08 11:14:43      BRONX                  PHONE  \n",
      "2011-04-06 00:00:00      BRONX                UNKNOWN  \n"
     ]
    }
   ],
   "source": [
    "# data exploration\n",
    "# Look at the first few rows\n",
    "print(df.head())\n"
   ]
  },
  {
   "cell_type": "code",
   "execution_count": 7,
   "id": "9b6c02b8-0992-4881-95e6-e6c744694c9e",
   "metadata": {
    "tags": []
   },
   "outputs": [
    {
     "name": "stdout",
     "output_type": "stream",
     "text": [
      "          Unique Key    Agency                      Agency Name  \\\n",
      "count   3.378098e+07  33780977                         33780977   \n",
      "unique           NaN        36                             1888   \n",
      "top              NaN      NYPD  New York City Police Department   \n",
      "freq             NaN  10038478                         10036657   \n",
      "mean    3.802665e+07       NaN                              NaN   \n",
      "std     1.209574e+07       NaN                              NaN   \n",
      "min     1.056422e+07       NaN                              NaN   \n",
      "25%     2.793121e+07       NaN                              NaN   \n",
      "50%     3.798303e+07       NaN                              NaN   \n",
      "75%     4.830951e+07       NaN                              NaN   \n",
      "max     5.840682e+07       NaN                              NaN   \n",
      "\n",
      "             Complaint Type        Descriptor         Location Type  \\\n",
      "count              33780977          33194300              26640403   \n",
      "unique                  485              1933                   230   \n",
      "top     Noise - Residential  Loud Music/Party  RESIDENTIAL BUILDING   \n",
      "freq                3131834           3434608               7930163   \n",
      "mean                    NaN               NaN                   NaN   \n",
      "std                     NaN               NaN                   NaN   \n",
      "min                     NaN               NaN                   NaN   \n",
      "25%                     NaN               NaN                   NaN   \n",
      "50%                     NaN               NaN                   NaN   \n",
      "75%                     NaN               NaN                   NaN   \n",
      "max                     NaN               NaN                   NaN   \n",
      "\n",
      "        Incident Zip      City  \\\n",
      "count     32273019.0  31799313   \n",
      "unique        3711.0      2749   \n",
      "top          10466.0  BROOKLYN   \n",
      "freq        393432.0   9966291   \n",
      "mean             NaN       NaN   \n",
      "std              NaN       NaN   \n",
      "min              NaN       NaN   \n",
      "25%              NaN       NaN   \n",
      "50%              NaN       NaN   \n",
      "75%              NaN       NaN   \n",
      "max              NaN       NaN   \n",
      "\n",
      "                                   Resolution Description   Borough  \\\n",
      "count                                            32526087  33733903   \n",
      "unique                                               1978         6   \n",
      "top     The Police Department responded to the complai...  BROOKLYN   \n",
      "freq                                              3229873  10058133   \n",
      "mean                                                  NaN       NaN   \n",
      "std                                                   NaN       NaN   \n",
      "min                                                   NaN       NaN   \n",
      "25%                                                   NaN       NaN   \n",
      "50%                                                   NaN       NaN   \n",
      "75%                                                   NaN       NaN   \n",
      "max                                                   NaN       NaN   \n",
      "\n",
      "       Open Data Channel Type  \n",
      "count                33780977  \n",
      "unique                      5  \n",
      "top                     PHONE  \n",
      "freq                 15434544  \n",
      "mean                      NaN  \n",
      "std                       NaN  \n",
      "min                       NaN  \n",
      "25%                       NaN  \n",
      "50%                       NaN  \n",
      "75%                       NaN  \n",
      "max                       NaN  \n"
     ]
    }
   ],
   "source": [
    "# Get summary statistics\n",
    "print(df.describe(include='all'))"
   ]
  },
  {
   "cell_type": "code",
   "execution_count": 8,
   "id": "553ef06a-21ea-4aeb-93cc-157d7cf32dfc",
   "metadata": {
    "tags": []
   },
   "outputs": [
    {
     "name": "stdout",
     "output_type": "stream",
     "text": [
      "Unique Key                 int64\n",
      "Agency                    object\n",
      "Agency Name               object\n",
      "Complaint Type            object\n",
      "Descriptor                object\n",
      "Location Type             object\n",
      "Incident Zip              object\n",
      "City                      object\n",
      "Resolution Description    object\n",
      "Borough                   object\n",
      "Open Data Channel Type    object\n",
      "dtype: object\n"
     ]
    }
   ],
   "source": [
    "# Check data types\n",
    "print(df.dtypes)"
   ]
  },
  {
   "cell_type": "code",
   "execution_count": 9,
   "id": "553c5487-aaaa-42ca-931a-5533dddf2fd0",
   "metadata": {
    "tags": []
   },
   "outputs": [
    {
     "name": "stdout",
     "output_type": "stream",
     "text": [
      "Complaint Type\n",
      "Noise - Residential               3131834\n",
      "Illegal Parking                   2110646\n",
      "HEAT/HOT WATER                    1983520\n",
      "Blocked Driveway                  1439795\n",
      "Street Condition                  1212154\n",
      "                                   ...   \n",
      "c:\\windows\\win.ini                      1\n",
      "idexf3mrb7)(!(objectClass=*)            1\n",
      "%E5%98%8A%E5%98%8DX-Injecti...          1\n",
      "() { :;}; /bin/sleep 11                 1\n",
      "Misc. Comments{${sleep(20)}}            1\n",
      "Name: count, Length: 485, dtype: int64\n"
     ]
    }
   ],
   "source": [
    "# Analyze complaint types\n",
    "complaint_types = df['Complaint Type'].value_counts()\n",
    "print(complaint_types)\n"
   ]
  },
  {
   "cell_type": "code",
   "execution_count": 10,
   "id": "2b294968-7fde-4dbe-ba36-bdb083de774d",
   "metadata": {
    "tags": []
   },
   "outputs": [
    {
     "name": "stdout",
     "output_type": "stream",
     "text": [
      "Earliest Date: 2010-01-01 00:00:00, Latest Date: 2023-08-04 12:00:00\n"
     ]
    }
   ],
   "source": [
    "# Identify the earliest and latest dates\n",
    "earliest_date = df.index.min()\n",
    "latest_date = df.index.max()\n",
    "print(f\"Earliest Date: {earliest_date}, Latest Date: {latest_date}\")\n"
   ]
  },
  {
   "cell_type": "code",
   "execution_count": 11,
   "id": "dc69bba0-4027-426e-afdd-bfacd8a20cda",
   "metadata": {
    "tags": []
   },
   "outputs": [
    {
     "name": "stdout",
     "output_type": "stream",
     "text": [
      "Average Daily Complaints in 2022: 8684.320547945206\n"
     ]
    }
   ],
   "source": [
    "# Q1\n",
    "df_2022 = df[df.index.year == 2022]\n",
    "daily_complaints_2022 = df_2022['Unique Key'].resample('D').count()\n",
    "average_daily_complaints_2022 = daily_complaints_2022.mean()\n",
    "print(f\"Average Daily Complaints in 2022: {average_daily_complaints_2022}\")"
   ]
  },
  {
   "cell_type": "code",
   "execution_count": 12,
   "id": "b582f0a8-cc6c-4e2e-aaa7-c3b46727fed8",
   "metadata": {
    "tags": []
   },
   "outputs": [
    {
     "name": "stdout",
     "output_type": "stream",
     "text": [
      "Date with Maximum Calls: 2020-08-04 00:00:00\n",
      "Number of Calls: 24415\n"
     ]
    }
   ],
   "source": [
    "# Q2\n",
    "daily_complaints = df['Unique Key'].resample('D').count()\n",
    "max_complaints_date = daily_complaints.idxmax()\n",
    "max_complaints_count = daily_complaints[max_complaints_date]\n",
    "print(f\"Date with Maximum Calls: {max_complaints_date}\")\n",
    "print(f\"Number of Calls: {max_complaints_count}\")"
   ]
  },
  {
   "cell_type": "code",
   "execution_count": 17,
   "id": "f0b7c220-68f0-4eeb-b2fb-5b7a92292be1",
   "metadata": {
    "tags": []
   },
   "outputs": [
    {
     "data": {
      "text/plain": [
       "Created Date\n",
       "2010-01-01    2942\n",
       "2010-01-02    3958\n",
       "2010-01-03    5676\n",
       "2010-01-04    9763\n",
       "2010-01-05    8735\n",
       "Freq: D, Name: Unique Key, dtype: int64"
      ]
     },
     "execution_count": 17,
     "metadata": {},
     "output_type": "execute_result"
    }
   ],
   "source": [
    "daily_complaints.head()"
   ]
  },
  {
   "cell_type": "code",
   "execution_count": 16,
   "id": "4592ef44-1fdd-4cd5-810b-fe132445e8de",
   "metadata": {
    "tags": []
   },
   "outputs": [
    {
     "name": "stdout",
     "output_type": "stream",
     "text": [
      "Most Common Complaint on 2020-08-04 00:00:00: Damaged Tree\n"
     ]
    }
   ],
   "source": [
    "# Q3\n",
    "data_on_max_complaints_date = df[df.index.date == max_complaints_date.date()]\n",
    "most_common_complaint = data_on_max_complaints_date['Complaint Type'].value_counts().idxmax()\n",
    "print(f\"Most Common Complaint on {max_complaints_date}: {most_common_complaint}\")"
   ]
  },
  {
   "cell_type": "code",
   "execution_count": 28,
   "id": "7fa2d28e-4d61-4029-94f5-3fbbfb17d8a7",
   "metadata": {
    "tags": []
   },
   "outputs": [
    {
     "name": "stdout",
     "output_type": "stream",
     "text": [
      "Quietest Month: 12\n",
      "Total Number of Calls: 2596986\n"
     ]
    }
   ],
   "source": [
    "# Q4\n",
    "monthly_complaints_sum = df['Unique Key'].groupby(df.index.month).count()\n",
    "quietest_month = monthly_complaints_sum.idxmin()\n",
    "quietest_month_count = monthly_complaints_sum[quietest_month]\n",
    "print(f\"Quietest Month: {quietest_month}\")\n",
    "print(f\"Total Number of Calls: {quietest_month_count}\")"
   ]
  },
  {
   "cell_type": "code",
   "execution_count": 21,
   "id": "c8dc740d-bcca-4d50-a735-ea33dbf9fa55",
   "metadata": {
    "tags": []
   },
   "outputs": [
    {
     "name": "stdout",
     "output_type": "stream",
     "text": [
      "Seasonal Component on 2020-12-25: 183\n"
     ]
    }
   ],
   "source": [
    "# Q5\n",
    "daily_series = df['Unique Key'].resample('D').count()\n",
    "import statsmodels.api as sm\n",
    "decomposition = sm.tsa.seasonal_decompose(daily_series, model='additive')\n",
    "seasonal_component = decomposition.seasonal\n",
    "seasonal_value_on_20201225 = seasonal_component['2020-12-25']\n",
    "rounded_seasonal_value = round(seasonal_value_on_20201225)\n",
    "print(f\"Seasonal Component on 2020-12-25: {rounded_seasonal_value}\")"
   ]
  },
  {
   "cell_type": "code",
   "execution_count": 22,
   "id": "e75c15ba-f0db-492a-bc31-c937c91dda6d",
   "metadata": {
    "tags": []
   },
   "outputs": [
    {
     "name": "stdout",
     "output_type": "stream",
     "text": [
      "Autocorrelation with a lag of 1: 0.7517059728398577\n"
     ]
    }
   ],
   "source": [
    "# Q6\n",
    "daily_series = df['Unique Key'].resample('D').count()\n",
    "autocorrelation_lag_1 = daily_series.autocorr(lag=1)\n",
    "print(f\"Autocorrelation with a lag of 1: {autocorrelation_lag_1}\")"
   ]
  },
  {
   "cell_type": "code",
   "execution_count": 24,
   "id": "76dee7d5-90a7-488a-823d-ad1f0abf4c7a",
   "metadata": {
    "tags": []
   },
   "outputs": [
    {
     "name": "stderr",
     "output_type": "stream",
     "text": [
      "01:45:26 - cmdstanpy - INFO - Chain [1] start processing\n",
      "01:45:27 - cmdstanpy - INFO - Chain [1] done processing\n"
     ]
    },
    {
     "name": "stdout",
     "output_type": "stream",
     "text": [
      "RMSE on Test Set: 1231.513760758433\n"
     ]
    }
   ],
   "source": [
    "# Q7\n",
    "prophet_df = daily_series.reset_index()\n",
    "prophet_df.columns = ['ds', 'y']\n",
    "train_df = prophet_df.iloc[:-90]\n",
    "test_df = prophet_df.iloc[-90:]\n",
    "from prophet import Prophet\n",
    "model = Prophet()\n",
    "model.fit(train_df)\n",
    "future = model.make_future_dataframe(periods=90)\n",
    "forecast = model.predict(future)\n",
    "from sklearn.metrics import mean_squared_error\n",
    "import numpy as np\n",
    "\n",
    "y_pred = forecast['yhat'][-90:]\n",
    "rmse = np.sqrt(mean_squared_error(test_df['y'], y_pred))\n",
    "print(f\"RMSE on Test Set: {rmse}\")\n"
   ]
  },
  {
   "cell_type": "code",
   "execution_count": null,
   "id": "a39c6e7f-09ee-4116-a3ef-b10c5811fcfc",
   "metadata": {},
   "outputs": [],
   "source": []
  }
 ],
 "metadata": {
  "kernelspec": {
   "display_name": "Python [conda env:mggy8413]",
   "language": "python",
   "name": "conda-env-mggy8413-py"
  },
  "language_info": {
   "codemirror_mode": {
    "name": "ipython",
    "version": 3
   },
   "file_extension": ".py",
   "mimetype": "text/x-python",
   "name": "python",
   "nbconvert_exporter": "python",
   "pygments_lexer": "ipython3",
   "version": "3.10.12"
  }
 },
 "nbformat": 4,
 "nbformat_minor": 5
}
